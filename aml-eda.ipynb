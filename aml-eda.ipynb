{
 "cells": [
  {
   "cell_type": "code",
   "execution_count": 1,
   "id": "a6265999",
   "metadata": {
    "_cell_guid": "b1076dfc-b9ad-4769-8c92-a6c4dae69d19",
    "_uuid": "8f2839f25d086af736a60e9eeb907d3b93b6e0e5",
    "papermill": {
     "duration": 2.142603,
     "end_time": "2024-03-17T12:40:25.920458",
     "exception": false,
     "start_time": "2024-03-17T12:40:23.777855",
     "status": "completed"
    },
    "tags": []
   },
   "outputs": [],
   "source": [
    "import numpy as np # linear algebra\n",
    "import pandas as pd # data processing, CSV file I/O (e.g. pd.read_csv)\n",
    "import seaborn as sns\n",
    "import matplotlib.pyplot as plt\n",
    "\n",
    "\n",
    "import os\n",
    "for dirname, _, filenames in os.walk('/kaggle/input'):\n",
    "    for filename in filenames:\n",
    "        print(os.path.join(dirname, filename))\n"
   ]
  },
  {
   "cell_type": "markdown",
   "id": "aa5a02d8",
   "metadata": {
    "papermill": {
     "duration": 0.006133,
     "end_time": "2024-03-17T12:40:25.933482",
     "exception": false,
     "start_time": "2024-03-17T12:40:25.927349",
     "status": "completed"
    },
    "tags": []
   },
   "source": [
    " # **Anti-Money Laundering (AML)** "
   ]
  },
  {
   "cell_type": "markdown",
   "id": "24924938",
   "metadata": {
    "papermill": {
     "duration": 0.005948,
     "end_time": "2024-03-17T12:40:25.945780",
     "exception": false,
     "start_time": "2024-03-17T12:40:25.939832",
     "status": "completed"
    },
    "tags": []
   },
   "source": [
    "#    Let's begin by understanding the variables in the dataset and their meanings:\n",
    "   - `Timestamp`: The timestamp of the transaction\n",
    "   - `From Bank\t`: The sending bank account\n",
    "   - `To Account.1`: The receiving bank account\n",
    "   - `Amount Received`: The amount received in the transaction\n",
    "   - `Receiving Currency`: The currency of the received amount\n",
    "   - `Amount Paid`: The amount paid in the transaction\n",
    "   - `Payment Currency`: The currency of the paid amount\n",
    "   - `Payment Format`: The format of the payment (e.g., Reinvestment, Cheque)\n",
    "   - `Is Laundering`: A binary indicator for whether the transaction is classified as money laundering (0 or 1)\n"
   ]
  },
  {
   "cell_type": "markdown",
   "id": "64c15f6b",
   "metadata": {
    "papermill": {
     "duration": 0.005961,
     "end_time": "2024-03-17T12:40:25.958024",
     "exception": false,
     "start_time": "2024-03-17T12:40:25.952063",
     "status": "completed"
    },
    "tags": []
   },
   "source": []
  },
  {
   "cell_type": "code",
   "execution_count": 2,
   "id": "fe2801ae",
   "metadata": {
    "execution": {
     "iopub.execute_input": "2024-03-17T12:40:25.973052Z",
     "iopub.status.busy": "2024-03-17T12:40:25.972175Z",
     "iopub.status.idle": "2024-03-17T12:40:48.094401Z",
     "shell.execute_reply": "2024-03-17T12:40:48.093519Z"
    },
    "papermill": {
     "duration": 22.132244,
     "end_time": "2024-03-17T12:40:48.096463",
     "exception": false,
     "start_time": "2024-03-17T12:40:25.964219",
     "status": "completed"
    },
    "tags": []
   },
   "outputs": [
    {
     "data": {
      "text/html": [
       "<div>\n",
       "<style scoped>\n",
       "    .dataframe tbody tr th:only-of-type {\n",
       "        vertical-align: middle;\n",
       "    }\n",
       "\n",
       "    .dataframe tbody tr th {\n",
       "        vertical-align: top;\n",
       "    }\n",
       "\n",
       "    .dataframe thead th {\n",
       "        text-align: right;\n",
       "    }\n",
       "</style>\n",
       "<table border=\"1\" class=\"dataframe\">\n",
       "  <thead>\n",
       "    <tr style=\"text-align: right;\">\n",
       "      <th></th>\n",
       "      <th>Timestamp</th>\n",
       "      <th>From Bank</th>\n",
       "      <th>Account</th>\n",
       "      <th>To Bank</th>\n",
       "      <th>Account.1</th>\n",
       "      <th>Amount Received</th>\n",
       "      <th>Receiving Currency</th>\n",
       "      <th>Amount Paid</th>\n",
       "      <th>Payment Currency</th>\n",
       "      <th>Payment Format</th>\n",
       "      <th>Is Laundering</th>\n",
       "    </tr>\n",
       "  </thead>\n",
       "  <tbody>\n",
       "    <tr>\n",
       "      <th>0</th>\n",
       "      <td>2022/09/01 00:20</td>\n",
       "      <td>10</td>\n",
       "      <td>8000EBD30</td>\n",
       "      <td>10</td>\n",
       "      <td>8000EBD30</td>\n",
       "      <td>3697.34</td>\n",
       "      <td>US Dollar</td>\n",
       "      <td>3697.34</td>\n",
       "      <td>US Dollar</td>\n",
       "      <td>Reinvestment</td>\n",
       "      <td>0</td>\n",
       "    </tr>\n",
       "    <tr>\n",
       "      <th>1</th>\n",
       "      <td>2022/09/01 00:20</td>\n",
       "      <td>3208</td>\n",
       "      <td>8000F4580</td>\n",
       "      <td>1</td>\n",
       "      <td>8000F5340</td>\n",
       "      <td>0.01</td>\n",
       "      <td>US Dollar</td>\n",
       "      <td>0.01</td>\n",
       "      <td>US Dollar</td>\n",
       "      <td>Cheque</td>\n",
       "      <td>0</td>\n",
       "    </tr>\n",
       "    <tr>\n",
       "      <th>2</th>\n",
       "      <td>2022/09/01 00:00</td>\n",
       "      <td>3209</td>\n",
       "      <td>8000F4670</td>\n",
       "      <td>3209</td>\n",
       "      <td>8000F4670</td>\n",
       "      <td>14675.57</td>\n",
       "      <td>US Dollar</td>\n",
       "      <td>14675.57</td>\n",
       "      <td>US Dollar</td>\n",
       "      <td>Reinvestment</td>\n",
       "      <td>0</td>\n",
       "    </tr>\n",
       "    <tr>\n",
       "      <th>3</th>\n",
       "      <td>2022/09/01 00:02</td>\n",
       "      <td>12</td>\n",
       "      <td>8000F5030</td>\n",
       "      <td>12</td>\n",
       "      <td>8000F5030</td>\n",
       "      <td>2806.97</td>\n",
       "      <td>US Dollar</td>\n",
       "      <td>2806.97</td>\n",
       "      <td>US Dollar</td>\n",
       "      <td>Reinvestment</td>\n",
       "      <td>0</td>\n",
       "    </tr>\n",
       "    <tr>\n",
       "      <th>4</th>\n",
       "      <td>2022/09/01 00:06</td>\n",
       "      <td>10</td>\n",
       "      <td>8000F5200</td>\n",
       "      <td>10</td>\n",
       "      <td>8000F5200</td>\n",
       "      <td>36682.97</td>\n",
       "      <td>US Dollar</td>\n",
       "      <td>36682.97</td>\n",
       "      <td>US Dollar</td>\n",
       "      <td>Reinvestment</td>\n",
       "      <td>0</td>\n",
       "    </tr>\n",
       "  </tbody>\n",
       "</table>\n",
       "</div>"
      ],
      "text/plain": [
       "          Timestamp  From Bank    Account  To Bank  Account.1  \\\n",
       "0  2022/09/01 00:20         10  8000EBD30       10  8000EBD30   \n",
       "1  2022/09/01 00:20       3208  8000F4580        1  8000F5340   \n",
       "2  2022/09/01 00:00       3209  8000F4670     3209  8000F4670   \n",
       "3  2022/09/01 00:02         12  8000F5030       12  8000F5030   \n",
       "4  2022/09/01 00:06         10  8000F5200       10  8000F5200   \n",
       "\n",
       "   Amount Received Receiving Currency  Amount Paid Payment Currency  \\\n",
       "0          3697.34          US Dollar      3697.34        US Dollar   \n",
       "1             0.01          US Dollar         0.01        US Dollar   \n",
       "2         14675.57          US Dollar     14675.57        US Dollar   \n",
       "3          2806.97          US Dollar      2806.97        US Dollar   \n",
       "4         36682.97          US Dollar     36682.97        US Dollar   \n",
       "\n",
       "  Payment Format  Is Laundering  \n",
       "0   Reinvestment              0  \n",
       "1         Cheque              0  \n",
       "2   Reinvestment              0  \n",
       "3   Reinvestment              0  \n",
       "4   Reinvestment              0  "
      ]
     },
     "execution_count": 2,
     "metadata": {},
     "output_type": "execute_result"
    }
   ],
   "source": [
    "df = pd.read_csv('./HI-Small_Trans.csv')\n",
    "df.head(5)"
   ]
  },
  {
   "cell_type": "code",
   "execution_count": null,
   "id": "5fd89d37",
   "metadata": {
    "jupyter": {
     "source_hidden": true
    },
    "papermill": {
     "duration": 0.00657,
     "end_time": "2024-03-17T12:40:48.110216",
     "exception": false,
     "start_time": "2024-03-17T12:40:48.103646",
     "status": "completed"
    },
    "tags": []
   },
   "outputs": [],
   "source": []
  },
  {
   "cell_type": "code",
   "execution_count": 3,
   "id": "1ee08427",
   "metadata": {
    "execution": {
     "iopub.execute_input": "2024-03-17T12:40:48.126045Z",
     "iopub.status.busy": "2024-03-17T12:40:48.125618Z",
     "iopub.status.idle": "2024-03-17T12:40:48.132029Z",
     "shell.execute_reply": "2024-03-17T12:40:48.130990Z"
    },
    "papermill": {
     "duration": 0.017103,
     "end_time": "2024-03-17T12:40:48.134047",
     "exception": false,
     "start_time": "2024-03-17T12:40:48.116944",
     "status": "completed"
    },
    "tags": []
   },
   "outputs": [
    {
     "data": {
      "text/plain": [
       "(5078345, 11)"
      ]
     },
     "execution_count": 3,
     "metadata": {},
     "output_type": "execute_result"
    }
   ],
   "source": [
    "df.shape"
   ]
  },
  {
   "cell_type": "markdown",
   "id": "27244898",
   "metadata": {
    "papermill": {
     "duration": 0.006417,
     "end_time": "2024-03-17T12:40:48.148483",
     "exception": false,
     "start_time": "2024-03-17T12:40:48.142066",
     "status": "completed"
    },
    "tags": []
   },
   "source": [
    "# Performing EDA in 4 phases:\n",
    "- Data Understanding: The data is pretty much straightforward to understand.\n",
    "- Data Cleaning\n",
    "- Exploratory Analysis\n",
    "- Feature Engineering"
   ]
  },
  {
   "cell_type": "markdown",
   "id": "05a96074",
   "metadata": {
    "papermill": {
     "duration": 0.006372,
     "end_time": "2024-03-17T12:40:48.161551",
     "exception": false,
     "start_time": "2024-03-17T12:40:48.155179",
     "status": "completed"
    },
    "tags": []
   },
   "source": [
    "We are already in phase 2, let's perform data cleaning/pre-processing\n",
    "Data Cleaning further divided in 5 phases: \n",
    "1. Handling Missing Values\n",
    "2. Removing Duplicates\n",
    "3. Handling Inconsistencies\n",
    "4. Handling Outliers\n",
    "5. Handling Dates and Times:\n"
   ]
  },
  {
   "cell_type": "code",
   "execution_count": 4,
   "id": "d1b71fb4",
   "metadata": {
    "execution": {
     "iopub.execute_input": "2024-03-17T12:40:48.177073Z",
     "iopub.status.busy": "2024-03-17T12:40:48.176371Z",
     "iopub.status.idle": "2024-03-17T12:40:50.202434Z",
     "shell.execute_reply": "2024-03-17T12:40:50.201378Z"
    },
    "papermill": {
     "duration": 2.036684,
     "end_time": "2024-03-17T12:40:50.204818",
     "exception": false,
     "start_time": "2024-03-17T12:40:48.168134",
     "status": "completed"
    },
    "tags": []
   },
   "outputs": [
    {
     "data": {
      "text/plain": [
       "Timestamp             0\n",
       "From Bank             0\n",
       "Account               0\n",
       "To Bank               0\n",
       "Account.1             0\n",
       "Amount Received       0\n",
       "Receiving Currency    0\n",
       "Amount Paid           0\n",
       "Payment Currency      0\n",
       "Payment Format        0\n",
       "Is Laundering         0\n",
       "dtype: int64"
      ]
     },
     "execution_count": 4,
     "metadata": {},
     "output_type": "execute_result"
    }
   ],
   "source": [
    "df.isnull().sum()"
   ]
  },
  {
   "cell_type": "code",
   "execution_count": 5,
   "id": "e86a2e5c",
   "metadata": {
    "execution": {
     "iopub.execute_input": "2024-03-17T12:40:50.221276Z",
     "iopub.status.busy": "2024-03-17T12:40:50.220855Z",
     "iopub.status.idle": "2024-03-17T12:40:50.229098Z",
     "shell.execute_reply": "2024-03-17T12:40:50.227980Z"
    },
    "papermill": {
     "duration": 0.018947,
     "end_time": "2024-03-17T12:40:50.231215",
     "exception": false,
     "start_time": "2024-03-17T12:40:50.212268",
     "status": "completed"
    },
    "tags": []
   },
   "outputs": [
    {
     "data": {
      "text/plain": [
       "Timestamp              object\n",
       "From Bank               int64\n",
       "Account                object\n",
       "To Bank                 int64\n",
       "Account.1              object\n",
       "Amount Received       float64\n",
       "Receiving Currency     object\n",
       "Amount Paid           float64\n",
       "Payment Currency       object\n",
       "Payment Format         object\n",
       "Is Laundering           int64\n",
       "dtype: object"
      ]
     },
     "execution_count": 5,
     "metadata": {},
     "output_type": "execute_result"
    }
   ],
   "source": [
    "df.dtypes"
   ]
  },
  {
   "cell_type": "code",
   "execution_count": 6,
   "id": "71490ada",
   "metadata": {
    "execution": {
     "iopub.execute_input": "2024-03-17T12:40:50.247774Z",
     "iopub.status.busy": "2024-03-17T12:40:50.246976Z",
     "iopub.status.idle": "2024-03-17T12:41:19.874994Z",
     "shell.execute_reply": "2024-03-17T12:41:19.873841Z"
    },
    "papermill": {
     "duration": 29.639292,
     "end_time": "2024-03-17T12:41:19.877695",
     "exception": false,
     "start_time": "2024-03-17T12:40:50.238403",
     "status": "completed"
    },
    "tags": []
   },
   "outputs": [],
   "source": [
    "df.duplicated().sum()\n",
    "df.drop_duplicates(inplace=True)\n",
    "\n",
    "'''Removing leading and trailing spaces'''\n",
    "df['Payment Format'] = df['Payment Format'].str.strip()"
   ]
  },
  {
   "cell_type": "code",
   "execution_count": 7,
   "id": "2e2e37b6",
   "metadata": {
    "execution": {
     "iopub.execute_input": "2024-03-17T12:41:19.894240Z",
     "iopub.status.busy": "2024-03-17T12:41:19.893826Z",
     "iopub.status.idle": "2024-03-17T12:41:20.158483Z",
     "shell.execute_reply": "2024-03-17T12:41:20.157430Z"
    },
    "papermill": {
     "duration": 0.276015,
     "end_time": "2024-03-17T12:41:20.161210",
     "exception": false,
     "start_time": "2024-03-17T12:41:19.885195",
     "status": "completed"
    },
    "tags": []
   },
   "outputs": [],
   "source": [
    "'''Handling Outliers'''\n",
    "outliers_upper_bound = df['Amount Received'].quantile(0.75)\n",
    "outliers_lower_bound = df['Amount Received'].quantile(0.25)"
   ]
  },
  {
   "cell_type": "code",
   "execution_count": 8,
   "id": "5217b7e6",
   "metadata": {
    "execution": {
     "iopub.execute_input": "2024-03-17T12:41:20.177992Z",
     "iopub.status.busy": "2024-03-17T12:41:20.177587Z",
     "iopub.status.idle": "2024-03-17T12:41:20.884595Z",
     "shell.execute_reply": "2024-03-17T12:41:20.883725Z"
    },
    "papermill": {
     "duration": 0.718456,
     "end_time": "2024-03-17T12:41:20.887138",
     "exception": false,
     "start_time": "2024-03-17T12:41:20.168682",
     "status": "completed"
    },
    "tags": []
   },
   "outputs": [],
   "source": [
    "outliers_lower_bound_df = df.loc[df['Amount Received'] < outliers_lower_bound]\n",
    "outliers_upper_bound_df = df.loc[df['Amount Received'] > outliers_upper_bound]"
   ]
  },
  {
   "cell_type": "code",
   "execution_count": 9,
   "id": "4c8c6dbd",
   "metadata": {
    "execution": {
     "iopub.execute_input": "2024-03-17T12:41:20.903583Z",
     "iopub.status.busy": "2024-03-17T12:41:20.903188Z",
     "iopub.status.idle": "2024-03-17T12:41:21.833238Z",
     "shell.execute_reply": "2024-03-17T12:41:21.832296Z"
    },
    "papermill": {
     "duration": 0.940877,
     "end_time": "2024-03-17T12:41:21.835324",
     "exception": false,
     "start_time": "2024-03-17T12:41:20.894447",
     "status": "completed"
    },
    "tags": []
   },
   "outputs": [
    {
     "data": {
      "text/plain": [
       "0         2022-09-01 00:20:00\n",
       "1         2022-09-01 00:20:00\n",
       "2         2022-09-01 00:00:00\n",
       "3         2022-09-01 00:02:00\n",
       "4         2022-09-01 00:06:00\n",
       "                  ...        \n",
       "5078340   2022-09-10 23:57:00\n",
       "5078341   2022-09-10 23:35:00\n",
       "5078342   2022-09-10 23:52:00\n",
       "5078343   2022-09-10 23:46:00\n",
       "5078344   2022-09-10 23:37:00\n",
       "Name: Timestamp, Length: 5078336, dtype: datetime64[ns]"
      ]
     },
     "execution_count": 9,
     "metadata": {},
     "output_type": "execute_result"
    }
   ],
   "source": [
    "'''Convert to Dates and Times'''\n",
    "df['Timestamp'] = pd.to_datetime(df['Timestamp'])\n",
    "df['Timestamp']"
   ]
  },
  {
   "cell_type": "code",
   "execution_count": 10,
   "id": "4e60c60e",
   "metadata": {
    "execution": {
     "iopub.execute_input": "2024-03-17T12:41:21.852511Z",
     "iopub.status.busy": "2024-03-17T12:41:21.852104Z",
     "iopub.status.idle": "2024-03-17T12:41:22.085539Z",
     "shell.execute_reply": "2024-03-17T12:41:22.084484Z"
    },
    "papermill": {
     "duration": 0.244857,
     "end_time": "2024-03-17T12:41:22.087652",
     "exception": false,
     "start_time": "2024-03-17T12:41:21.842795",
     "status": "completed"
    },
    "tags": []
   },
   "outputs": [
    {
     "data": {
      "text/html": [
       "<div>\n",
       "<style scoped>\n",
       "    .dataframe tbody tr th:only-of-type {\n",
       "        vertical-align: middle;\n",
       "    }\n",
       "\n",
       "    .dataframe tbody tr th {\n",
       "        vertical-align: top;\n",
       "    }\n",
       "\n",
       "    .dataframe thead th {\n",
       "        text-align: right;\n",
       "    }\n",
       "</style>\n",
       "<table border=\"1\" class=\"dataframe\">\n",
       "  <thead>\n",
       "    <tr style=\"text-align: right;\">\n",
       "      <th></th>\n",
       "      <th>Timestamp</th>\n",
       "      <th>From Bank</th>\n",
       "      <th>Account</th>\n",
       "      <th>To Bank</th>\n",
       "      <th>Account.1</th>\n",
       "      <th>Amount Received</th>\n",
       "      <th>Receiving Currency</th>\n",
       "      <th>Amount Paid</th>\n",
       "      <th>Payment Currency</th>\n",
       "      <th>Payment Format</th>\n",
       "      <th>Is Laundering</th>\n",
       "      <th>Hour</th>\n",
       "    </tr>\n",
       "  </thead>\n",
       "  <tbody>\n",
       "    <tr>\n",
       "      <th>0</th>\n",
       "      <td>2022-09-01 00:20:00</td>\n",
       "      <td>10</td>\n",
       "      <td>8000EBD30</td>\n",
       "      <td>10</td>\n",
       "      <td>8000EBD30</td>\n",
       "      <td>3697.34</td>\n",
       "      <td>US Dollar</td>\n",
       "      <td>3697.34</td>\n",
       "      <td>US Dollar</td>\n",
       "      <td>Reinvestment</td>\n",
       "      <td>0</td>\n",
       "      <td>0</td>\n",
       "    </tr>\n",
       "    <tr>\n",
       "      <th>1</th>\n",
       "      <td>2022-09-01 00:20:00</td>\n",
       "      <td>3208</td>\n",
       "      <td>8000F4580</td>\n",
       "      <td>1</td>\n",
       "      <td>8000F5340</td>\n",
       "      <td>0.01</td>\n",
       "      <td>US Dollar</td>\n",
       "      <td>0.01</td>\n",
       "      <td>US Dollar</td>\n",
       "      <td>Cheque</td>\n",
       "      <td>0</td>\n",
       "      <td>0</td>\n",
       "    </tr>\n",
       "    <tr>\n",
       "      <th>2</th>\n",
       "      <td>2022-09-01 00:00:00</td>\n",
       "      <td>3209</td>\n",
       "      <td>8000F4670</td>\n",
       "      <td>3209</td>\n",
       "      <td>8000F4670</td>\n",
       "      <td>14675.57</td>\n",
       "      <td>US Dollar</td>\n",
       "      <td>14675.57</td>\n",
       "      <td>US Dollar</td>\n",
       "      <td>Reinvestment</td>\n",
       "      <td>0</td>\n",
       "      <td>0</td>\n",
       "    </tr>\n",
       "    <tr>\n",
       "      <th>3</th>\n",
       "      <td>2022-09-01 00:02:00</td>\n",
       "      <td>12</td>\n",
       "      <td>8000F5030</td>\n",
       "      <td>12</td>\n",
       "      <td>8000F5030</td>\n",
       "      <td>2806.97</td>\n",
       "      <td>US Dollar</td>\n",
       "      <td>2806.97</td>\n",
       "      <td>US Dollar</td>\n",
       "      <td>Reinvestment</td>\n",
       "      <td>0</td>\n",
       "      <td>0</td>\n",
       "    </tr>\n",
       "    <tr>\n",
       "      <th>4</th>\n",
       "      <td>2022-09-01 00:06:00</td>\n",
       "      <td>10</td>\n",
       "      <td>8000F5200</td>\n",
       "      <td>10</td>\n",
       "      <td>8000F5200</td>\n",
       "      <td>36682.97</td>\n",
       "      <td>US Dollar</td>\n",
       "      <td>36682.97</td>\n",
       "      <td>US Dollar</td>\n",
       "      <td>Reinvestment</td>\n",
       "      <td>0</td>\n",
       "      <td>0</td>\n",
       "    </tr>\n",
       "  </tbody>\n",
       "</table>\n",
       "</div>"
      ],
      "text/plain": [
       "            Timestamp  From Bank    Account  To Bank  Account.1  \\\n",
       "0 2022-09-01 00:20:00         10  8000EBD30       10  8000EBD30   \n",
       "1 2022-09-01 00:20:00       3208  8000F4580        1  8000F5340   \n",
       "2 2022-09-01 00:00:00       3209  8000F4670     3209  8000F4670   \n",
       "3 2022-09-01 00:02:00         12  8000F5030       12  8000F5030   \n",
       "4 2022-09-01 00:06:00         10  8000F5200       10  8000F5200   \n",
       "\n",
       "   Amount Received Receiving Currency  Amount Paid Payment Currency  \\\n",
       "0          3697.34          US Dollar      3697.34        US Dollar   \n",
       "1             0.01          US Dollar         0.01        US Dollar   \n",
       "2         14675.57          US Dollar     14675.57        US Dollar   \n",
       "3          2806.97          US Dollar      2806.97        US Dollar   \n",
       "4         36682.97          US Dollar     36682.97        US Dollar   \n",
       "\n",
       "  Payment Format  Is Laundering  Hour  \n",
       "0   Reinvestment              0     0  \n",
       "1         Cheque              0     0  \n",
       "2   Reinvestment              0     0  \n",
       "3   Reinvestment              0     0  \n",
       "4   Reinvestment              0     0  "
      ]
     },
     "execution_count": 10,
     "metadata": {},
     "output_type": "execute_result"
    }
   ],
   "source": [
    "df['Hour'] = df['Timestamp'].dt.hour\n",
    "df.head()"
   ]
  },
  {
   "cell_type": "code",
   "execution_count": 11,
   "id": "2c10a4b1",
   "metadata": {
    "execution": {
     "iopub.execute_input": "2024-03-17T12:41:22.104564Z",
     "iopub.status.busy": "2024-03-17T12:41:22.104180Z",
     "iopub.status.idle": "2024-03-17T12:41:22.542227Z",
     "shell.execute_reply": "2024-03-17T12:41:22.541002Z"
    },
    "papermill": {
     "duration": 0.449424,
     "end_time": "2024-03-17T12:41:22.544636",
     "exception": false,
     "start_time": "2024-03-17T12:41:22.095212",
     "status": "completed"
    },
    "tags": []
   },
   "outputs": [
    {
     "data": {
      "text/html": [
       "<div>\n",
       "<style scoped>\n",
       "    .dataframe tbody tr th:only-of-type {\n",
       "        vertical-align: middle;\n",
       "    }\n",
       "\n",
       "    .dataframe tbody tr th {\n",
       "        vertical-align: top;\n",
       "    }\n",
       "\n",
       "    .dataframe thead th {\n",
       "        text-align: right;\n",
       "    }\n",
       "</style>\n",
       "<table border=\"1\" class=\"dataframe\">\n",
       "  <thead>\n",
       "    <tr style=\"text-align: right;\">\n",
       "      <th></th>\n",
       "      <th>Timestamp</th>\n",
       "      <th>From Bank</th>\n",
       "      <th>Account</th>\n",
       "      <th>To Bank</th>\n",
       "      <th>Account.1</th>\n",
       "      <th>Amount Received</th>\n",
       "      <th>Receiving Currency</th>\n",
       "      <th>Amount Paid</th>\n",
       "      <th>Payment Currency</th>\n",
       "      <th>Payment Format</th>\n",
       "      <th>Is Laundering</th>\n",
       "      <th>Hour</th>\n",
       "    </tr>\n",
       "  </thead>\n",
       "  <tbody>\n",
       "    <tr>\n",
       "      <th>317159</th>\n",
       "      <td>2022-09-01 00:07:00</td>\n",
       "      <td>148785</td>\n",
       "      <td>8127D3E10</td>\n",
       "      <td>148785</td>\n",
       "      <td>8127D3E10</td>\n",
       "      <td>5.959000e+01</td>\n",
       "      <td>Saudi Riyal</td>\n",
       "      <td>59.59</td>\n",
       "      <td>Saudi Riyal</td>\n",
       "      <td>Reinvestment</td>\n",
       "      <td>0</td>\n",
       "      <td>0</td>\n",
       "    </tr>\n",
       "    <tr>\n",
       "      <th>2847287</th>\n",
       "      <td>2022-09-06 03:20:00</td>\n",
       "      <td>1</td>\n",
       "      <td>800B0E670</td>\n",
       "      <td>1</td>\n",
       "      <td>800B0E670</td>\n",
       "      <td>1.833519e+09</td>\n",
       "      <td>Yen</td>\n",
       "      <td>17395817.44</td>\n",
       "      <td>US Dollar</td>\n",
       "      <td>ACH</td>\n",
       "      <td>0</td>\n",
       "      <td>3</td>\n",
       "    </tr>\n",
       "    <tr>\n",
       "      <th>4610823</th>\n",
       "      <td>2022-09-09 14:25:00</td>\n",
       "      <td>8888</td>\n",
       "      <td>807BAB2D0</td>\n",
       "      <td>27241</td>\n",
       "      <td>811CAC7A0</td>\n",
       "      <td>5.286300e+02</td>\n",
       "      <td>Euro</td>\n",
       "      <td>528.63</td>\n",
       "      <td>Euro</td>\n",
       "      <td>Credit Card</td>\n",
       "      <td>0</td>\n",
       "      <td>14</td>\n",
       "    </tr>\n",
       "    <tr>\n",
       "      <th>1079993</th>\n",
       "      <td>2022-09-01 22:41:00</td>\n",
       "      <td>240243</td>\n",
       "      <td>80FB16370</td>\n",
       "      <td>240243</td>\n",
       "      <td>80FB16370</td>\n",
       "      <td>7.094595e+05</td>\n",
       "      <td>Swiss Franc</td>\n",
       "      <td>709459.51</td>\n",
       "      <td>Swiss Franc</td>\n",
       "      <td>Reinvestment</td>\n",
       "      <td>0</td>\n",
       "      <td>22</td>\n",
       "    </tr>\n",
       "    <tr>\n",
       "      <th>5059641</th>\n",
       "      <td>2022-09-10 21:45:00</td>\n",
       "      <td>26698</td>\n",
       "      <td>80BF5A060</td>\n",
       "      <td>238744</td>\n",
       "      <td>80E312310</td>\n",
       "      <td>1.770000e+00</td>\n",
       "      <td>US Dollar</td>\n",
       "      <td>1.77</td>\n",
       "      <td>US Dollar</td>\n",
       "      <td>Wire</td>\n",
       "      <td>0</td>\n",
       "      <td>21</td>\n",
       "    </tr>\n",
       "  </tbody>\n",
       "</table>\n",
       "</div>"
      ],
      "text/plain": [
       "                  Timestamp  From Bank    Account  To Bank  Account.1  \\\n",
       "317159  2022-09-01 00:07:00     148785  8127D3E10   148785  8127D3E10   \n",
       "2847287 2022-09-06 03:20:00          1  800B0E670        1  800B0E670   \n",
       "4610823 2022-09-09 14:25:00       8888  807BAB2D0    27241  811CAC7A0   \n",
       "1079993 2022-09-01 22:41:00     240243  80FB16370   240243  80FB16370   \n",
       "5059641 2022-09-10 21:45:00      26698  80BF5A060   238744  80E312310   \n",
       "\n",
       "         Amount Received Receiving Currency  Amount Paid Payment Currency  \\\n",
       "317159      5.959000e+01        Saudi Riyal        59.59      Saudi Riyal   \n",
       "2847287     1.833519e+09                Yen  17395817.44        US Dollar   \n",
       "4610823     5.286300e+02               Euro       528.63             Euro   \n",
       "1079993     7.094595e+05        Swiss Franc    709459.51      Swiss Franc   \n",
       "5059641     1.770000e+00          US Dollar         1.77        US Dollar   \n",
       "\n",
       "        Payment Format  Is Laundering  Hour  \n",
       "317159    Reinvestment              0     0  \n",
       "2847287            ACH              0     3  \n",
       "4610823    Credit Card              0    14  \n",
       "1079993   Reinvestment              0    22  \n",
       "5059641           Wire              0    21  "
      ]
     },
     "execution_count": 11,
     "metadata": {},
     "output_type": "execute_result"
    }
   ],
   "source": [
    "df.sample(5)"
   ]
  },
  {
   "cell_type": "markdown",
   "id": "1ed437b9",
   "metadata": {
    "papermill": {
     "duration": 0.007654,
     "end_time": "2024-03-17T12:41:22.560251",
     "exception": false,
     "start_time": "2024-03-17T12:41:22.552597",
     "status": "completed"
    },
    "tags": []
   },
   "source": [
    "Mathematical overview of the data "
   ]
  },
  {
   "cell_type": "code",
   "execution_count": 12,
   "id": "0de10072",
   "metadata": {
    "execution": {
     "iopub.execute_input": "2024-03-17T12:41:22.577844Z",
     "iopub.status.busy": "2024-03-17T12:41:22.577416Z",
     "iopub.status.idle": "2024-03-17T12:41:24.826586Z",
     "shell.execute_reply": "2024-03-17T12:41:24.825698Z"
    },
    "papermill": {
     "duration": 2.260729,
     "end_time": "2024-03-17T12:41:24.828928",
     "exception": false,
     "start_time": "2024-03-17T12:41:22.568199",
     "status": "completed"
    },
    "tags": []
   },
   "outputs": [
    {
     "data": {
      "text/html": [
       "<div>\n",
       "<style scoped>\n",
       "    .dataframe tbody tr th:only-of-type {\n",
       "        vertical-align: middle;\n",
       "    }\n",
       "\n",
       "    .dataframe tbody tr th {\n",
       "        vertical-align: top;\n",
       "    }\n",
       "\n",
       "    .dataframe thead th {\n",
       "        text-align: right;\n",
       "    }\n",
       "</style>\n",
       "<table border=\"1\" class=\"dataframe\">\n",
       "  <thead>\n",
       "    <tr style=\"text-align: right;\">\n",
       "      <th></th>\n",
       "      <th>Timestamp</th>\n",
       "      <th>From Bank</th>\n",
       "      <th>To Bank</th>\n",
       "      <th>Amount Received</th>\n",
       "      <th>Amount Paid</th>\n",
       "      <th>Is Laundering</th>\n",
       "      <th>Hour</th>\n",
       "    </tr>\n",
       "  </thead>\n",
       "  <tbody>\n",
       "    <tr>\n",
       "      <th>count</th>\n",
       "      <td>5078336</td>\n",
       "      <td>5.078336e+06</td>\n",
       "      <td>5.078336e+06</td>\n",
       "      <td>5.078336e+06</td>\n",
       "      <td>5.078336e+06</td>\n",
       "      <td>5.078336e+06</td>\n",
       "      <td>5.078336e+06</td>\n",
       "    </tr>\n",
       "    <tr>\n",
       "      <th>mean</th>\n",
       "      <td>2022-09-05 07:16:07.855403520</td>\n",
       "      <td>4.573058e+04</td>\n",
       "      <td>6.574461e+04</td>\n",
       "      <td>5.988737e+06</td>\n",
       "      <td>4.509281e+06</td>\n",
       "      <td>1.019428e-03</td>\n",
       "      <td>1.049245e+01</td>\n",
       "    </tr>\n",
       "    <tr>\n",
       "      <th>min</th>\n",
       "      <td>2022-09-01 00:00:00</td>\n",
       "      <td>1.000000e+00</td>\n",
       "      <td>1.000000e+00</td>\n",
       "      <td>1.000000e-06</td>\n",
       "      <td>1.000000e-06</td>\n",
       "      <td>0.000000e+00</td>\n",
       "      <td>0.000000e+00</td>\n",
       "    </tr>\n",
       "    <tr>\n",
       "      <th>25%</th>\n",
       "      <td>2022-09-02 04:32:00</td>\n",
       "      <td>1.190000e+02</td>\n",
       "      <td>4.259000e+03</td>\n",
       "      <td>1.833700e+02</td>\n",
       "      <td>1.844800e+02</td>\n",
       "      <td>0.000000e+00</td>\n",
       "      <td>4.000000e+00</td>\n",
       "    </tr>\n",
       "    <tr>\n",
       "      <th>50%</th>\n",
       "      <td>2022-09-05 12:16:00</td>\n",
       "      <td>9.679000e+03</td>\n",
       "      <td>2.156800e+04</td>\n",
       "      <td>1.411040e+03</td>\n",
       "      <td>1.414570e+03</td>\n",
       "      <td>0.000000e+00</td>\n",
       "      <td>1.000000e+01</td>\n",
       "    </tr>\n",
       "    <tr>\n",
       "      <th>75%</th>\n",
       "      <td>2022-09-08 03:13:00</td>\n",
       "      <td>2.862800e+04</td>\n",
       "      <td>1.223320e+05</td>\n",
       "      <td>1.234630e+04</td>\n",
       "      <td>1.229815e+04</td>\n",
       "      <td>0.000000e+00</td>\n",
       "      <td>1.700000e+01</td>\n",
       "    </tr>\n",
       "    <tr>\n",
       "      <th>max</th>\n",
       "      <td>2022-09-18 16:18:00</td>\n",
       "      <td>3.563030e+05</td>\n",
       "      <td>3.562940e+05</td>\n",
       "      <td>1.046302e+12</td>\n",
       "      <td>1.046302e+12</td>\n",
       "      <td>1.000000e+00</td>\n",
       "      <td>2.300000e+01</td>\n",
       "    </tr>\n",
       "    <tr>\n",
       "      <th>std</th>\n",
       "      <td>NaN</td>\n",
       "      <td>8.176567e+04</td>\n",
       "      <td>8.409303e+04</td>\n",
       "      <td>1.037184e+09</td>\n",
       "      <td>8.697736e+08</td>\n",
       "      <td>3.191221e-02</td>\n",
       "      <td>7.362642e+00</td>\n",
       "    </tr>\n",
       "  </tbody>\n",
       "</table>\n",
       "</div>"
      ],
      "text/plain": [
       "                           Timestamp     From Bank       To Bank  \\\n",
       "count                        5078336  5.078336e+06  5.078336e+06   \n",
       "mean   2022-09-05 07:16:07.855403520  4.573058e+04  6.574461e+04   \n",
       "min              2022-09-01 00:00:00  1.000000e+00  1.000000e+00   \n",
       "25%              2022-09-02 04:32:00  1.190000e+02  4.259000e+03   \n",
       "50%              2022-09-05 12:16:00  9.679000e+03  2.156800e+04   \n",
       "75%              2022-09-08 03:13:00  2.862800e+04  1.223320e+05   \n",
       "max              2022-09-18 16:18:00  3.563030e+05  3.562940e+05   \n",
       "std                              NaN  8.176567e+04  8.409303e+04   \n",
       "\n",
       "       Amount Received   Amount Paid  Is Laundering          Hour  \n",
       "count     5.078336e+06  5.078336e+06   5.078336e+06  5.078336e+06  \n",
       "mean      5.988737e+06  4.509281e+06   1.019428e-03  1.049245e+01  \n",
       "min       1.000000e-06  1.000000e-06   0.000000e+00  0.000000e+00  \n",
       "25%       1.833700e+02  1.844800e+02   0.000000e+00  4.000000e+00  \n",
       "50%       1.411040e+03  1.414570e+03   0.000000e+00  1.000000e+01  \n",
       "75%       1.234630e+04  1.229815e+04   0.000000e+00  1.700000e+01  \n",
       "max       1.046302e+12  1.046302e+12   1.000000e+00  2.300000e+01  \n",
       "std       1.037184e+09  8.697736e+08   3.191221e-02  7.362642e+00  "
      ]
     },
     "execution_count": 12,
     "metadata": {},
     "output_type": "execute_result"
    }
   ],
   "source": [
    "df.describe()"
   ]
  },
  {
   "cell_type": "markdown",
   "id": "e7598ec1",
   "metadata": {
    "papermill": {
     "duration": 0.007812,
     "end_time": "2024-03-17T12:41:24.844976",
     "exception": false,
     "start_time": "2024-03-17T12:41:24.837164",
     "status": "completed"
    },
    "tags": []
   },
   "source": [
    "Let's try to observe the suspicious patterns by plucking fraudulent records of launderers"
   ]
  },
  {
   "cell_type": "code",
   "execution_count": 13,
   "id": "9482f6f4",
   "metadata": {
    "execution": {
     "iopub.execute_input": "2024-03-17T12:41:24.862861Z",
     "iopub.status.busy": "2024-03-17T12:41:24.862452Z",
     "iopub.status.idle": "2024-03-17T12:41:24.892559Z",
     "shell.execute_reply": "2024-03-17T12:41:24.891508Z"
    },
    "papermill": {
     "duration": 0.041753,
     "end_time": "2024-03-17T12:41:24.894713",
     "exception": false,
     "start_time": "2024-03-17T12:41:24.852960",
     "status": "completed"
    },
    "tags": []
   },
   "outputs": [
    {
     "data": {
      "text/html": [
       "<div>\n",
       "<style scoped>\n",
       "    .dataframe tbody tr th:only-of-type {\n",
       "        vertical-align: middle;\n",
       "    }\n",
       "\n",
       "    .dataframe tbody tr th {\n",
       "        vertical-align: top;\n",
       "    }\n",
       "\n",
       "    .dataframe thead th {\n",
       "        text-align: right;\n",
       "    }\n",
       "</style>\n",
       "<table border=\"1\" class=\"dataframe\">\n",
       "  <thead>\n",
       "    <tr style=\"text-align: right;\">\n",
       "      <th></th>\n",
       "      <th>Timestamp</th>\n",
       "      <th>From Bank</th>\n",
       "      <th>Account</th>\n",
       "      <th>To Bank</th>\n",
       "      <th>Account.1</th>\n",
       "      <th>Amount Received</th>\n",
       "      <th>Receiving Currency</th>\n",
       "      <th>Amount Paid</th>\n",
       "      <th>Payment Currency</th>\n",
       "      <th>Payment Format</th>\n",
       "      <th>Is Laundering</th>\n",
       "      <th>Hour</th>\n",
       "    </tr>\n",
       "  </thead>\n",
       "  <tbody>\n",
       "    <tr>\n",
       "      <th>4742</th>\n",
       "      <td>2022-09-01 00:21:00</td>\n",
       "      <td>70</td>\n",
       "      <td>100428660</td>\n",
       "      <td>1124</td>\n",
       "      <td>800825340</td>\n",
       "      <td>389769.39</td>\n",
       "      <td>US Dollar</td>\n",
       "      <td>389769.39</td>\n",
       "      <td>US Dollar</td>\n",
       "      <td>Cheque</td>\n",
       "      <td>1</td>\n",
       "      <td>0</td>\n",
       "    </tr>\n",
       "    <tr>\n",
       "      <th>40621</th>\n",
       "      <td>2022-09-01 00:03:00</td>\n",
       "      <td>70</td>\n",
       "      <td>100428660</td>\n",
       "      <td>11474</td>\n",
       "      <td>805B716C0</td>\n",
       "      <td>29024.33</td>\n",
       "      <td>US Dollar</td>\n",
       "      <td>29024.33</td>\n",
       "      <td>US Dollar</td>\n",
       "      <td>Credit Card</td>\n",
       "      <td>1</td>\n",
       "      <td>0</td>\n",
       "    </tr>\n",
       "    <tr>\n",
       "      <th>69152</th>\n",
       "      <td>2022-09-01 00:01:00</td>\n",
       "      <td>70</td>\n",
       "      <td>100428660</td>\n",
       "      <td>15980</td>\n",
       "      <td>80B39E7B0</td>\n",
       "      <td>792.92</td>\n",
       "      <td>US Dollar</td>\n",
       "      <td>792.92</td>\n",
       "      <td>US Dollar</td>\n",
       "      <td>Credit Card</td>\n",
       "      <td>1</td>\n",
       "      <td>0</td>\n",
       "    </tr>\n",
       "    <tr>\n",
       "      <th>85763</th>\n",
       "      <td>2022-09-01 00:03:00</td>\n",
       "      <td>70</td>\n",
       "      <td>100428660</td>\n",
       "      <td>113798</td>\n",
       "      <td>80DC756E0</td>\n",
       "      <td>13171425.53</td>\n",
       "      <td>US Dollar</td>\n",
       "      <td>13171425.53</td>\n",
       "      <td>US Dollar</td>\n",
       "      <td>Cheque</td>\n",
       "      <td>1</td>\n",
       "      <td>0</td>\n",
       "    </tr>\n",
       "    <tr>\n",
       "      <th>90684</th>\n",
       "      <td>2022-09-01 00:23:00</td>\n",
       "      <td>70</td>\n",
       "      <td>100428660</td>\n",
       "      <td>32375</td>\n",
       "      <td>80E480620</td>\n",
       "      <td>14288.83</td>\n",
       "      <td>US Dollar</td>\n",
       "      <td>14288.83</td>\n",
       "      <td>US Dollar</td>\n",
       "      <td>Cash</td>\n",
       "      <td>1</td>\n",
       "      <td>0</td>\n",
       "    </tr>\n",
       "    <tr>\n",
       "      <th>...</th>\n",
       "      <td>...</td>\n",
       "      <td>...</td>\n",
       "      <td>...</td>\n",
       "      <td>...</td>\n",
       "      <td>...</td>\n",
       "      <td>...</td>\n",
       "      <td>...</td>\n",
       "      <td>...</td>\n",
       "      <td>...</td>\n",
       "      <td>...</td>\n",
       "      <td>...</td>\n",
       "      <td>...</td>\n",
       "    </tr>\n",
       "    <tr>\n",
       "      <th>5071168</th>\n",
       "      <td>2022-09-10 23:29:00</td>\n",
       "      <td>111433</td>\n",
       "      <td>8065C2380</td>\n",
       "      <td>21550</td>\n",
       "      <td>8065C69E0</td>\n",
       "      <td>7773.42</td>\n",
       "      <td>US Dollar</td>\n",
       "      <td>7773.42</td>\n",
       "      <td>US Dollar</td>\n",
       "      <td>ACH</td>\n",
       "      <td>1</td>\n",
       "      <td>23</td>\n",
       "    </tr>\n",
       "    <tr>\n",
       "      <th>5073375</th>\n",
       "      <td>2022-09-10 23:07:00</td>\n",
       "      <td>9</td>\n",
       "      <td>80727F930</td>\n",
       "      <td>219557</td>\n",
       "      <td>8072A28C0</td>\n",
       "      <td>448920.65</td>\n",
       "      <td>Ruble</td>\n",
       "      <td>448920.65</td>\n",
       "      <td>Ruble</td>\n",
       "      <td>Cheque</td>\n",
       "      <td>1</td>\n",
       "      <td>23</td>\n",
       "    </tr>\n",
       "    <tr>\n",
       "      <th>5074248</th>\n",
       "      <td>2022-09-12 03:34:00</td>\n",
       "      <td>222</td>\n",
       "      <td>812D127D0</td>\n",
       "      <td>50202</td>\n",
       "      <td>812D129C0</td>\n",
       "      <td>20085.71</td>\n",
       "      <td>Saudi Riyal</td>\n",
       "      <td>20085.71</td>\n",
       "      <td>Saudi Riyal</td>\n",
       "      <td>ACH</td>\n",
       "      <td>1</td>\n",
       "      <td>3</td>\n",
       "    </tr>\n",
       "    <tr>\n",
       "      <th>5075056</th>\n",
       "      <td>2022-09-10 23:43:00</td>\n",
       "      <td>17327</td>\n",
       "      <td>8095F6C20</td>\n",
       "      <td>15695</td>\n",
       "      <td>8095F6C70</td>\n",
       "      <td>3314.36</td>\n",
       "      <td>US Dollar</td>\n",
       "      <td>3314.36</td>\n",
       "      <td>US Dollar</td>\n",
       "      <td>ACH</td>\n",
       "      <td>1</td>\n",
       "      <td>23</td>\n",
       "    </tr>\n",
       "    <tr>\n",
       "      <th>5077204</th>\n",
       "      <td>2022-09-10 23:53:00</td>\n",
       "      <td>3</td>\n",
       "      <td>804FAA470</td>\n",
       "      <td>212789</td>\n",
       "      <td>804FAD580</td>\n",
       "      <td>3564699.78</td>\n",
       "      <td>Rupee</td>\n",
       "      <td>3564699.78</td>\n",
       "      <td>Rupee</td>\n",
       "      <td>ACH</td>\n",
       "      <td>1</td>\n",
       "      <td>23</td>\n",
       "    </tr>\n",
       "  </tbody>\n",
       "</table>\n",
       "<p>5177 rows × 12 columns</p>\n",
       "</div>"
      ],
      "text/plain": [
       "                  Timestamp  From Bank    Account  To Bank  Account.1  \\\n",
       "4742    2022-09-01 00:21:00         70  100428660     1124  800825340   \n",
       "40621   2022-09-01 00:03:00         70  100428660    11474  805B716C0   \n",
       "69152   2022-09-01 00:01:00         70  100428660    15980  80B39E7B0   \n",
       "85763   2022-09-01 00:03:00         70  100428660   113798  80DC756E0   \n",
       "90684   2022-09-01 00:23:00         70  100428660    32375  80E480620   \n",
       "...                     ...        ...        ...      ...        ...   \n",
       "5071168 2022-09-10 23:29:00     111433  8065C2380    21550  8065C69E0   \n",
       "5073375 2022-09-10 23:07:00          9  80727F930   219557  8072A28C0   \n",
       "5074248 2022-09-12 03:34:00        222  812D127D0    50202  812D129C0   \n",
       "5075056 2022-09-10 23:43:00      17327  8095F6C20    15695  8095F6C70   \n",
       "5077204 2022-09-10 23:53:00          3  804FAA470   212789  804FAD580   \n",
       "\n",
       "         Amount Received Receiving Currency  Amount Paid Payment Currency  \\\n",
       "4742           389769.39          US Dollar    389769.39        US Dollar   \n",
       "40621           29024.33          US Dollar     29024.33        US Dollar   \n",
       "69152             792.92          US Dollar       792.92        US Dollar   \n",
       "85763        13171425.53          US Dollar  13171425.53        US Dollar   \n",
       "90684           14288.83          US Dollar     14288.83        US Dollar   \n",
       "...                  ...                ...          ...              ...   \n",
       "5071168          7773.42          US Dollar      7773.42        US Dollar   \n",
       "5073375        448920.65              Ruble    448920.65            Ruble   \n",
       "5074248         20085.71        Saudi Riyal     20085.71      Saudi Riyal   \n",
       "5075056          3314.36          US Dollar      3314.36        US Dollar   \n",
       "5077204       3564699.78              Rupee   3564699.78            Rupee   \n",
       "\n",
       "        Payment Format  Is Laundering  Hour  \n",
       "4742            Cheque              1     0  \n",
       "40621      Credit Card              1     0  \n",
       "69152      Credit Card              1     0  \n",
       "85763           Cheque              1     0  \n",
       "90684             Cash              1     0  \n",
       "...                ...            ...   ...  \n",
       "5071168            ACH              1    23  \n",
       "5073375         Cheque              1    23  \n",
       "5074248            ACH              1     3  \n",
       "5075056            ACH              1    23  \n",
       "5077204            ACH              1    23  \n",
       "\n",
       "[5177 rows x 12 columns]"
      ]
     },
     "execution_count": 13,
     "metadata": {},
     "output_type": "execute_result"
    }
   ],
   "source": [
    "illicit_funds = df[df['Is Laundering']==1]\n",
    "illicit_funds"
   ]
  },
  {
   "cell_type": "code",
   "execution_count": 14,
   "id": "0892bd19",
   "metadata": {
    "execution": {
     "iopub.execute_input": "2024-03-17T12:41:24.915528Z",
     "iopub.status.busy": "2024-03-17T12:41:24.914755Z",
     "iopub.status.idle": "2024-03-17T12:41:24.930281Z",
     "shell.execute_reply": "2024-03-17T12:41:24.929490Z"
    },
    "papermill": {
     "duration": 0.028399,
     "end_time": "2024-03-17T12:41:24.932282",
     "exception": false,
     "start_time": "2024-03-17T12:41:24.903883",
     "status": "completed"
    },
    "tags": []
   },
   "outputs": [
    {
     "data": {
      "text/html": [
       "<div>\n",
       "<style scoped>\n",
       "    .dataframe tbody tr th:only-of-type {\n",
       "        vertical-align: middle;\n",
       "    }\n",
       "\n",
       "    .dataframe tbody tr th {\n",
       "        vertical-align: top;\n",
       "    }\n",
       "\n",
       "    .dataframe thead th {\n",
       "        text-align: right;\n",
       "    }\n",
       "</style>\n",
       "<table border=\"1\" class=\"dataframe\">\n",
       "  <thead>\n",
       "    <tr style=\"text-align: right;\">\n",
       "      <th></th>\n",
       "      <th>Timestamp</th>\n",
       "      <th>From Bank</th>\n",
       "      <th>Account</th>\n",
       "      <th>To Bank</th>\n",
       "      <th>Account.1</th>\n",
       "      <th>Amount Received</th>\n",
       "      <th>Receiving Currency</th>\n",
       "      <th>Amount Paid</th>\n",
       "      <th>Payment Currency</th>\n",
       "      <th>Payment Format</th>\n",
       "      <th>Is Laundering</th>\n",
       "      <th>Hour</th>\n",
       "    </tr>\n",
       "  </thead>\n",
       "  <tbody>\n",
       "    <tr>\n",
       "      <th>1944662</th>\n",
       "      <td>2022-09-03 11:23:00</td>\n",
       "      <td>287</td>\n",
       "      <td>8061C8910</td>\n",
       "      <td>19723</td>\n",
       "      <td>803983BE0</td>\n",
       "      <td>1.993069e+07</td>\n",
       "      <td>Yuan</td>\n",
       "      <td>1.993069e+07</td>\n",
       "      <td>Yuan</td>\n",
       "      <td>ACH</td>\n",
       "      <td>1</td>\n",
       "      <td>11</td>\n",
       "    </tr>\n",
       "    <tr>\n",
       "      <th>5058339</th>\n",
       "      <td>2022-09-14 14:10:00</td>\n",
       "      <td>28827</td>\n",
       "      <td>806DEA990</td>\n",
       "      <td>41407</td>\n",
       "      <td>80F454910</td>\n",
       "      <td>1.414157e+04</td>\n",
       "      <td>Swiss Franc</td>\n",
       "      <td>1.414157e+04</td>\n",
       "      <td>Swiss Franc</td>\n",
       "      <td>ACH</td>\n",
       "      <td>1</td>\n",
       "      <td>14</td>\n",
       "    </tr>\n",
       "    <tr>\n",
       "      <th>1237934</th>\n",
       "      <td>2022-09-05 06:35:00</td>\n",
       "      <td>214615</td>\n",
       "      <td>8075AC7C0</td>\n",
       "      <td>128557</td>\n",
       "      <td>80A937600</td>\n",
       "      <td>1.542640e+08</td>\n",
       "      <td>Australian Dollar</td>\n",
       "      <td>1.542640e+08</td>\n",
       "      <td>Australian Dollar</td>\n",
       "      <td>ACH</td>\n",
       "      <td>1</td>\n",
       "      <td>6</td>\n",
       "    </tr>\n",
       "    <tr>\n",
       "      <th>4563222</th>\n",
       "      <td>2022-09-13 11:27:00</td>\n",
       "      <td>214749</td>\n",
       "      <td>805DB7F20</td>\n",
       "      <td>15</td>\n",
       "      <td>80AD14210</td>\n",
       "      <td>2.715244e+04</td>\n",
       "      <td>Australian Dollar</td>\n",
       "      <td>2.715244e+04</td>\n",
       "      <td>Australian Dollar</td>\n",
       "      <td>ACH</td>\n",
       "      <td>1</td>\n",
       "      <td>11</td>\n",
       "    </tr>\n",
       "    <tr>\n",
       "      <th>4777034</th>\n",
       "      <td>2022-09-12 13:16:00</td>\n",
       "      <td>17729</td>\n",
       "      <td>80720B3B0</td>\n",
       "      <td>3149</td>\n",
       "      <td>8032FADC0</td>\n",
       "      <td>5.372230e+03</td>\n",
       "      <td>US Dollar</td>\n",
       "      <td>5.372230e+03</td>\n",
       "      <td>US Dollar</td>\n",
       "      <td>ACH</td>\n",
       "      <td>1</td>\n",
       "      <td>13</td>\n",
       "    </tr>\n",
       "  </tbody>\n",
       "</table>\n",
       "</div>"
      ],
      "text/plain": [
       "                  Timestamp  From Bank    Account  To Bank  Account.1  \\\n",
       "1944662 2022-09-03 11:23:00        287  8061C8910    19723  803983BE0   \n",
       "5058339 2022-09-14 14:10:00      28827  806DEA990    41407  80F454910   \n",
       "1237934 2022-09-05 06:35:00     214615  8075AC7C0   128557  80A937600   \n",
       "4563222 2022-09-13 11:27:00     214749  805DB7F20       15  80AD14210   \n",
       "4777034 2022-09-12 13:16:00      17729  80720B3B0     3149  8032FADC0   \n",
       "\n",
       "         Amount Received Receiving Currency   Amount Paid   Payment Currency  \\\n",
       "1944662     1.993069e+07               Yuan  1.993069e+07               Yuan   \n",
       "5058339     1.414157e+04        Swiss Franc  1.414157e+04        Swiss Franc   \n",
       "1237934     1.542640e+08  Australian Dollar  1.542640e+08  Australian Dollar   \n",
       "4563222     2.715244e+04  Australian Dollar  2.715244e+04  Australian Dollar   \n",
       "4777034     5.372230e+03          US Dollar  5.372230e+03          US Dollar   \n",
       "\n",
       "        Payment Format  Is Laundering  Hour  \n",
       "1944662            ACH              1    11  \n",
       "5058339            ACH              1    14  \n",
       "1237934            ACH              1     6  \n",
       "4563222            ACH              1    11  \n",
       "4777034            ACH              1    13  "
      ]
     },
     "execution_count": 14,
     "metadata": {},
     "output_type": "execute_result"
    }
   ],
   "source": [
    "illicit_funds.sample(5)"
   ]
  },
  {
   "cell_type": "code",
   "execution_count": 15,
   "id": "a2553b6c",
   "metadata": {
    "execution": {
     "iopub.execute_input": "2024-03-17T12:41:24.951961Z",
     "iopub.status.busy": "2024-03-17T12:41:24.950934Z",
     "iopub.status.idle": "2024-03-17T12:41:24.962049Z",
     "shell.execute_reply": "2024-03-17T12:41:24.960978Z"
    },
    "papermill": {
     "duration": 0.023156,
     "end_time": "2024-03-17T12:41:24.964237",
     "exception": false,
     "start_time": "2024-03-17T12:41:24.941081",
     "status": "completed"
    },
    "tags": []
   },
   "outputs": [
    {
     "data": {
      "text/plain": [
       "Payment Format\n",
       "ACH            4483\n",
       "Cheque          324\n",
       "Credit Card     206\n",
       "Cash            108\n",
       "Bitcoin          56\n",
       "Name: count, dtype: int64"
      ]
     },
     "execution_count": 15,
     "metadata": {},
     "output_type": "execute_result"
    }
   ],
   "source": [
    "illicit_funds['Payment Format'].value_counts()"
   ]
  },
  {
   "cell_type": "code",
   "execution_count": 16,
   "id": "9d4aaa6b",
   "metadata": {
    "execution": {
     "iopub.execute_input": "2024-03-17T12:41:24.983552Z",
     "iopub.status.busy": "2024-03-17T12:41:24.983180Z",
     "iopub.status.idle": "2024-03-17T12:41:25.525558Z",
     "shell.execute_reply": "2024-03-17T12:41:25.524792Z"
    },
    "papermill": {
     "duration": 0.554423,
     "end_time": "2024-03-17T12:41:25.527486",
     "exception": false,
     "start_time": "2024-03-17T12:41:24.973063",
     "status": "completed"
    },
    "tags": []
   },
   "outputs": [
    {
     "data": {
      "text/plain": [
       "Payment Format\n",
       "Cheque          1864331\n",
       "Credit Card     1323324\n",
       "ACH              600793\n",
       "Cash             490891\n",
       "Reinvestment     481056\n",
       "Wire             171855\n",
       "Bitcoin          146086\n",
       "Name: count, dtype: int64"
      ]
     },
     "execution_count": 16,
     "metadata": {},
     "output_type": "execute_result"
    }
   ],
   "source": [
    "df['Payment Format'].value_counts() "
   ]
  },
  {
   "cell_type": "code",
   "execution_count": 18,
   "id": "e3f16ad4",
   "metadata": {},
   "outputs": [
    {
     "data": {
      "text/plain": [
       "Payment Currency\n",
       "US Dollar            1895169\n",
       "Euro                 1168296\n",
       "Swiss Franc           234860\n",
       "Yuan                  213752\n",
       "Shekel                192184\n",
       "Rupee                 190202\n",
       "UK Pound              180738\n",
       "Yen                   155209\n",
       "Ruble                 155178\n",
       "Bitcoin               146061\n",
       "Canadian Dollar       140042\n",
       "Australian Dollar     136769\n",
       "Mexican Peso          110159\n",
       "Saudi Riyal            89014\n",
       "Brazil Real            70703\n",
       "Name: count, dtype: int64"
      ]
     },
     "execution_count": 18,
     "metadata": {},
     "output_type": "execute_result"
    }
   ],
   "source": [
    "df['Payment Currency'].value_counts()"
   ]
  },
  {
   "cell_type": "markdown",
   "id": "d0b96bdf",
   "metadata": {
    "papermill": {
     "duration": 0.008477,
     "end_time": "2024-03-17T12:41:25.545163",
     "exception": false,
     "start_time": "2024-03-17T12:41:25.536686",
     "status": "completed"
    },
    "tags": []
   },
   "source": [
    "*As you can observe in the data above, the highest number of fraud was reported with ACH payment method, the combination of minimal credential requirements, the batch processing system (which results in delays), the ease of use and trust associated with the ACH system, the variety of fraud methods available to criminals, the high volume of transactions, and the lack of immediate detection mechanisms make ACH payments a prime target for money laundering frauds.*\n"
   ]
  },
  {
   "cell_type": "code",
   "execution_count": 17,
   "id": "602a26f0",
   "metadata": {
    "papermill": {
     "duration": null,
     "end_time": null,
     "exception": null,
     "start_time": null,
     "status": "completed"
    },
    "tags": []
   },
   "outputs": [
    {
     "name": "stderr",
     "output_type": "stream",
     "text": [
      "/home/akshat/anaconda3/lib/python3.11/site-packages/seaborn/_oldcore.py:1119: FutureWarning: use_inf_as_na option is deprecated and will be removed in a future version. Convert inf values to NaN before operating instead.\n",
      "  with pd.option_context('mode.use_inf_as_na', True):\n"
     ]
    },
    {
     "data": {
      "image/png": "[encoded data removed]",
      "text/plain": [
       "<Figure size 640x480 with 1 Axes>"
      ]
     },
     "metadata": {},
     "output_type": "display_data"
    },
    {
     "name": "stderr",
     "output_type": "stream",
     "text": [
      "/home/akshat/anaconda3/lib/python3.11/site-packages/seaborn/_oldcore.py:1119: FutureWarning: use_inf_as_na option is deprecated and will be removed in a future version. Convert inf values to NaN before operating instead.\n",
      "  with pd.option_context('mode.use_inf_as_na', True):\n"
     ]
    },
    {
     "data": {
      "image/png": "[encoded data removed]",
      "text/plain": [
       "<Figure size 640x480 with 1 Axes>"
      ]
     },
     "metadata": {},
     "output_type": "display_data"
    }
   ],
   "source": [
    "sns.histplot(data=df, x=\"Payment Format\", color=\"skyblue\", label=\"Payment Format used in original dataset\")\n",
    "\n",
    "plt.legend()\n",
    "plt.show()\n",
    "\n",
    "sns.histplot(data=illicit_funds, x=\"Payment Format\", color=\"red\", label=\"Payment Format | illicit funds\")\n",
    "plt.legend()\n",
    "plt.show()"
   ]
  },
  {
   "cell_type": "markdown",
   "id": "40687e64",
   "metadata": {},
   "source": [
    "What you can infer from this data is, transactions carried out using wire transfers does not usually initiated by fraudsters.\n",
    "Let's further explore the data of illicit funds and try to draw patterns out of it if there is any.\n",
    "\n",
    "'As we can by grouping data on the basis of hours that the maximum transactions intiated in afternoon when the volume of transaction is high'\n",
    "\n",
    "\n",
    "\n",
    "\n"
   ]
  },
  {
   "cell_type": "code",
   "execution_count": 36,
   "id": "2f72ece4",
   "metadata": {
    "papermill": {
     "duration": null,
     "end_time": null,
     "exception": null,
     "start_time": null,
     "status": "completed"
    },
    "tags": []
   },
   "outputs": [
    {
     "data": {
      "text/plain": [
       "Hour\n",
       "0     176\n",
       "1     152\n",
       "2     165\n",
       "3     146\n",
       "4     154\n",
       "5     188\n",
       "6     207\n",
       "7     195\n",
       "8     258\n",
       "9     217\n",
       "10    234\n",
       "11    295\n",
       "12    336\n",
       "13    292\n",
       "14    279\n",
       "15    263\n",
       "16    311\n",
       "17    257\n",
       "18    255\n",
       "19    231\n",
       "20    134\n",
       "21    154\n",
       "22    128\n",
       "23    150\n",
       "dtype: int64"
      ]
     },
     "execution_count": 36,
     "metadata": {},
     "output_type": "execute_result"
    }
   ],
   "source": [
    "txnsPerHour = illicit_funds.groupby('Hour').size()\n",
    "txnsPerHour\n",
    "\n",
    "\n"
   ]
  },
  {
   "cell_type": "code",
   "execution_count": 43,
   "id": "93878c26",
   "metadata": {},
   "outputs": [
    {
     "name": "stderr",
     "output_type": "stream",
     "text": [
      "/home/akshat/anaconda3/lib/python3.11/site-packages/seaborn/categorical.py:1794: FutureWarning: use_inf_as_na option is deprecated and will be removed in a future version. Convert inf values to NaN before operating instead.\n",
      "  with pd.option_context('mode.use_inf_as_na', True):\n",
      "/home/akshat/anaconda3/lib/python3.11/site-packages/seaborn/categorical.py:1794: FutureWarning: use_inf_as_na option is deprecated and will be removed in a future version. Convert inf values to NaN before operating instead.\n",
      "  with pd.option_context('mode.use_inf_as_na', True):\n",
      "/home/akshat/anaconda3/lib/python3.11/site-packages/seaborn/categorical.py:1794: FutureWarning: use_inf_as_na option is deprecated and will be removed in a future version. Convert inf values to NaN before operating instead.\n",
      "  with pd.option_context('mode.use_inf_as_na', True):\n",
      "/home/akshat/anaconda3/lib/python3.11/site-packages/seaborn/categorical.py:1794: FutureWarning: use_inf_as_na option is deprecated and will be removed in a future version. Convert inf values to NaN before operating instead.\n",
      "  with pd.option_context('mode.use_inf_as_na', True):\n",
      "/home/akshat/anaconda3/lib/python3.11/site-packages/seaborn/categorical.py:1794: FutureWarning: use_inf_as_na option is deprecated and will be removed in a future version. Convert inf values to NaN before operating instead.\n",
      "  with pd.option_context('mode.use_inf_as_na', True):\n"
     ]
    },
    {
     "data": {
      "text/plain": [
       "<Axes: xlabel='Payment Format', ylabel='Amount Received'>"
      ]
     },
     "execution_count": 43,
     "metadata": {},
     "output_type": "execute_result"
    },
    {
     "data": {
      "image/png": "[encoded data removed]",
      "text/plain": [
       "<Figure size 640x480 with 1 Axes>"
      ]
     },
     "metadata": {},
     "output_type": "display_data"
    }
   ],
   "source": [
    "sns.boxenplot(data=illicit_funds, x='Payment Format', y='Amount Received')"
   ]
  },
  {
   "cell_type": "markdown",
   "id": "400b197c",
   "metadata": {},
   "source": [
    "*If majority of the Transactions taking place through ACH then let's explore ACH itself as a seperate dataframe*"
   ]
  },
  {
   "cell_type": "code",
   "execution_count": 47,
   "id": "3a55ad50",
   "metadata": {},
   "outputs": [
    {
     "data": {
      "text/html": [
       "<div>\n",
       "<style scoped>\n",
       "    .dataframe tbody tr th:only-of-type {\n",
       "        vertical-align: middle;\n",
       "    }\n",
       "\n",
       "    .dataframe tbody tr th {\n",
       "        vertical-align: top;\n",
       "    }\n",
       "\n",
       "    .dataframe thead th {\n",
       "        text-align: right;\n",
       "    }\n",
       "</style>\n",
       "<table border=\"1\" class=\"dataframe\">\n",
       "  <thead>\n",
       "    <tr style=\"text-align: right;\">\n",
       "      <th></th>\n",
       "      <th>Timestamp</th>\n",
       "      <th>From Bank</th>\n",
       "      <th>Account</th>\n",
       "      <th>To Bank</th>\n",
       "      <th>Account.1</th>\n",
       "      <th>Amount Received</th>\n",
       "      <th>Receiving Currency</th>\n",
       "      <th>Amount Paid</th>\n",
       "      <th>Payment Currency</th>\n",
       "      <th>Payment Format</th>\n",
       "      <th>Is Laundering</th>\n",
       "      <th>Hour</th>\n",
       "    </tr>\n",
       "  </thead>\n",
       "  <tbody>\n",
       "    <tr>\n",
       "      <th>112579</th>\n",
       "      <td>2022-09-01 00:23:00</td>\n",
       "      <td>231004</td>\n",
       "      <td>812EE86F0</td>\n",
       "      <td>21940</td>\n",
       "      <td>812EE89C0</td>\n",
       "      <td>3401.73</td>\n",
       "      <td>US Dollar</td>\n",
       "      <td>3401.73</td>\n",
       "      <td>US Dollar</td>\n",
       "      <td>ACH</td>\n",
       "      <td>1</td>\n",
       "      <td>0</td>\n",
       "    </tr>\n",
       "    <tr>\n",
       "      <th>137520</th>\n",
       "      <td>2022-09-01 00:06:00</td>\n",
       "      <td>21174</td>\n",
       "      <td>800737690</td>\n",
       "      <td>12</td>\n",
       "      <td>80011F990</td>\n",
       "      <td>2848.96</td>\n",
       "      <td>Euro</td>\n",
       "      <td>2848.96</td>\n",
       "      <td>Euro</td>\n",
       "      <td>ACH</td>\n",
       "      <td>1</td>\n",
       "      <td>0</td>\n",
       "    </tr>\n",
       "    <tr>\n",
       "      <th>137522</th>\n",
       "      <td>2022-09-01 04:33:00</td>\n",
       "      <td>21174</td>\n",
       "      <td>800737690</td>\n",
       "      <td>20</td>\n",
       "      <td>80020C5B0</td>\n",
       "      <td>8630.40</td>\n",
       "      <td>Euro</td>\n",
       "      <td>8630.40</td>\n",
       "      <td>Euro</td>\n",
       "      <td>ACH</td>\n",
       "      <td>1</td>\n",
       "      <td>4</td>\n",
       "    </tr>\n",
       "    <tr>\n",
       "      <th>137524</th>\n",
       "      <td>2022-09-01 09:14:00</td>\n",
       "      <td>21174</td>\n",
       "      <td>800737690</td>\n",
       "      <td>20</td>\n",
       "      <td>80006A5E0</td>\n",
       "      <td>35642.49</td>\n",
       "      <td>Yuan</td>\n",
       "      <td>35642.49</td>\n",
       "      <td>Yuan</td>\n",
       "      <td>ACH</td>\n",
       "      <td>1</td>\n",
       "      <td>9</td>\n",
       "    </tr>\n",
       "    <tr>\n",
       "      <th>137525</th>\n",
       "      <td>2022-09-01 09:56:00</td>\n",
       "      <td>21174</td>\n",
       "      <td>800737690</td>\n",
       "      <td>220</td>\n",
       "      <td>8007A5B70</td>\n",
       "      <td>5738987.96</td>\n",
       "      <td>US Dollar</td>\n",
       "      <td>5738987.96</td>\n",
       "      <td>US Dollar</td>\n",
       "      <td>ACH</td>\n",
       "      <td>1</td>\n",
       "      <td>9</td>\n",
       "    </tr>\n",
       "    <tr>\n",
       "      <th>...</th>\n",
       "      <td>...</td>\n",
       "      <td>...</td>\n",
       "      <td>...</td>\n",
       "      <td>...</td>\n",
       "      <td>...</td>\n",
       "      <td>...</td>\n",
       "      <td>...</td>\n",
       "      <td>...</td>\n",
       "      <td>...</td>\n",
       "      <td>...</td>\n",
       "      <td>...</td>\n",
       "      <td>...</td>\n",
       "    </tr>\n",
       "    <tr>\n",
       "      <th>5070832</th>\n",
       "      <td>2022-09-10 23:13:00</td>\n",
       "      <td>12</td>\n",
       "      <td>8016FDD30</td>\n",
       "      <td>1467</td>\n",
       "      <td>8016FDCE0</td>\n",
       "      <td>2049.43</td>\n",
       "      <td>US Dollar</td>\n",
       "      <td>2049.43</td>\n",
       "      <td>US Dollar</td>\n",
       "      <td>ACH</td>\n",
       "      <td>1</td>\n",
       "      <td>23</td>\n",
       "    </tr>\n",
       "    <tr>\n",
       "      <th>5071168</th>\n",
       "      <td>2022-09-10 23:29:00</td>\n",
       "      <td>111433</td>\n",
       "      <td>8065C2380</td>\n",
       "      <td>21550</td>\n",
       "      <td>8065C69E0</td>\n",
       "      <td>7773.42</td>\n",
       "      <td>US Dollar</td>\n",
       "      <td>7773.42</td>\n",
       "      <td>US Dollar</td>\n",
       "      <td>ACH</td>\n",
       "      <td>1</td>\n",
       "      <td>23</td>\n",
       "    </tr>\n",
       "    <tr>\n",
       "      <th>5074248</th>\n",
       "      <td>2022-09-12 03:34:00</td>\n",
       "      <td>222</td>\n",
       "      <td>812D127D0</td>\n",
       "      <td>50202</td>\n",
       "      <td>812D129C0</td>\n",
       "      <td>20085.71</td>\n",
       "      <td>Saudi Riyal</td>\n",
       "      <td>20085.71</td>\n",
       "      <td>Saudi Riyal</td>\n",
       "      <td>ACH</td>\n",
       "      <td>1</td>\n",
       "      <td>3</td>\n",
       "    </tr>\n",
       "    <tr>\n",
       "      <th>5075056</th>\n",
       "      <td>2022-09-10 23:43:00</td>\n",
       "      <td>17327</td>\n",
       "      <td>8095F6C20</td>\n",
       "      <td>15695</td>\n",
       "      <td>8095F6C70</td>\n",
       "      <td>3314.36</td>\n",
       "      <td>US Dollar</td>\n",
       "      <td>3314.36</td>\n",
       "      <td>US Dollar</td>\n",
       "      <td>ACH</td>\n",
       "      <td>1</td>\n",
       "      <td>23</td>\n",
       "    </tr>\n",
       "    <tr>\n",
       "      <th>5077204</th>\n",
       "      <td>2022-09-10 23:53:00</td>\n",
       "      <td>3</td>\n",
       "      <td>804FAA470</td>\n",
       "      <td>212789</td>\n",
       "      <td>804FAD580</td>\n",
       "      <td>3564699.78</td>\n",
       "      <td>Rupee</td>\n",
       "      <td>3564699.78</td>\n",
       "      <td>Rupee</td>\n",
       "      <td>ACH</td>\n",
       "      <td>1</td>\n",
       "      <td>23</td>\n",
       "    </tr>\n",
       "  </tbody>\n",
       "</table>\n",
       "<p>4483 rows × 12 columns</p>\n",
       "</div>"
      ],
      "text/plain": [
       "                  Timestamp  From Bank    Account  To Bank  Account.1  \\\n",
       "112579  2022-09-01 00:23:00     231004  812EE86F0    21940  812EE89C0   \n",
       "137520  2022-09-01 00:06:00      21174  800737690       12  80011F990   \n",
       "137522  2022-09-01 04:33:00      21174  800737690       20  80020C5B0   \n",
       "137524  2022-09-01 09:14:00      21174  800737690       20  80006A5E0   \n",
       "137525  2022-09-01 09:56:00      21174  800737690      220  8007A5B70   \n",
       "...                     ...        ...        ...      ...        ...   \n",
       "5070832 2022-09-10 23:13:00         12  8016FDD30     1467  8016FDCE0   \n",
       "5071168 2022-09-10 23:29:00     111433  8065C2380    21550  8065C69E0   \n",
       "5074248 2022-09-12 03:34:00        222  812D127D0    50202  812D129C0   \n",
       "5075056 2022-09-10 23:43:00      17327  8095F6C20    15695  8095F6C70   \n",
       "5077204 2022-09-10 23:53:00          3  804FAA470   212789  804FAD580   \n",
       "\n",
       "         Amount Received Receiving Currency  Amount Paid Payment Currency  \\\n",
       "112579           3401.73          US Dollar      3401.73        US Dollar   \n",
       "137520           2848.96               Euro      2848.96             Euro   \n",
       "137522           8630.40               Euro      8630.40             Euro   \n",
       "137524          35642.49               Yuan     35642.49             Yuan   \n",
       "137525        5738987.96          US Dollar   5738987.96        US Dollar   \n",
       "...                  ...                ...          ...              ...   \n",
       "5070832          2049.43          US Dollar      2049.43        US Dollar   \n",
       "5071168          7773.42          US Dollar      7773.42        US Dollar   \n",
       "5074248         20085.71        Saudi Riyal     20085.71      Saudi Riyal   \n",
       "5075056          3314.36          US Dollar      3314.36        US Dollar   \n",
       "5077204       3564699.78              Rupee   3564699.78            Rupee   \n",
       "\n",
       "        Payment Format  Is Laundering  Hour  \n",
       "112579             ACH              1     0  \n",
       "137520             ACH              1     0  \n",
       "137522             ACH              1     4  \n",
       "137524             ACH              1     9  \n",
       "137525             ACH              1     9  \n",
       "...                ...            ...   ...  \n",
       "5070832            ACH              1    23  \n",
       "5071168            ACH              1    23  \n",
       "5074248            ACH              1     3  \n",
       "5075056            ACH              1    23  \n",
       "5077204            ACH              1    23  \n",
       "\n",
       "[4483 rows x 12 columns]"
      ]
     },
     "execution_count": 47,
     "metadata": {},
     "output_type": "execute_result"
    }
   ],
   "source": [
    "\n",
    "illicit_funds_ACH = illicit_funds[illicit_funds['Payment Format'] == 'ACH']\n",
    "illicit_funds_ACH"
   ]
  },
  {
   "cell_type": "code",
   "execution_count": 52,
   "id": "f1bf8055",
   "metadata": {},
   "outputs": [
    {
     "data": {
      "text/plain": [
       "<Axes: xlabel='Receiving Currency'>"
      ]
     },
     "execution_count": 52,
     "metadata": {},
     "output_type": "execute_result"
    },
    {
     "data": {
      "image/png": "[encoded data removed]",
      "text/plain": [
       "<Figure size 640x480 with 1 Axes>"
      ]
     },
     "metadata": {},
     "output_type": "display_data"
    }
   ],
   "source": [
    "illicit_funds_ACH.groupby('Receiving Currency').size().sort_values(ascending=False).plot.bar()"
   ]
  },
  {
   "cell_type": "code",
   "execution_count": 63,
   "id": "f236f16e",
   "metadata": {},
   "outputs": [
    {
     "name": "stderr",
     "output_type": "stream",
     "text": [
      "/tmp/ipykernel_7322/4200032567.py:1: SettingWithCopyWarning: \n",
      "A value is trying to be set on a copy of a slice from a DataFrame.\n",
      "Try using .loc[row_indexer,col_indexer] = value instead\n",
      "\n",
      "See the caveats in the documentation: https://pandas.pydata.org/pandas-docs/stable/user_guide/indexing.html#returning-a-view-versus-a-copy\n",
      "  illicit_funds_ACH['dayName'] = illicit_funds_ACH['Timestamp'].dt.day_name()\n"
     ]
    },
    {
     "data": {
      "text/html": [
       "<div>\n",
       "<style scoped>\n",
       "    .dataframe tbody tr th:only-of-type {\n",
       "        vertical-align: middle;\n",
       "    }\n",
       "\n",
       "    .dataframe tbody tr th {\n",
       "        vertical-align: top;\n",
       "    }\n",
       "\n",
       "    .dataframe thead th {\n",
       "        text-align: right;\n",
       "    }\n",
       "</style>\n",
       "<table border=\"1\" class=\"dataframe\">\n",
       "  <thead>\n",
       "    <tr style=\"text-align: right;\">\n",
       "      <th></th>\n",
       "      <th>Timestamp</th>\n",
       "      <th>From Bank</th>\n",
       "      <th>Account</th>\n",
       "      <th>To Bank</th>\n",
       "      <th>Account.1</th>\n",
       "      <th>Amount Received</th>\n",
       "      <th>Receiving Currency</th>\n",
       "      <th>Amount Paid</th>\n",
       "      <th>Payment Currency</th>\n",
       "      <th>Payment Format</th>\n",
       "      <th>Is Laundering</th>\n",
       "      <th>Hour</th>\n",
       "      <th>dayName</th>\n",
       "    </tr>\n",
       "  </thead>\n",
       "  <tbody>\n",
       "    <tr>\n",
       "      <th>112579</th>\n",
       "      <td>2022-09-01 00:23:00</td>\n",
       "      <td>231004</td>\n",
       "      <td>812EE86F0</td>\n",
       "      <td>21940</td>\n",
       "      <td>812EE89C0</td>\n",
       "      <td>3401.73</td>\n",
       "      <td>US Dollar</td>\n",
       "      <td>3401.73</td>\n",
       "      <td>US Dollar</td>\n",
       "      <td>ACH</td>\n",
       "      <td>1</td>\n",
       "      <td>0</td>\n",
       "      <td>Thursday</td>\n",
       "    </tr>\n",
       "    <tr>\n",
       "      <th>137520</th>\n",
       "      <td>2022-09-01 00:06:00</td>\n",
       "      <td>21174</td>\n",
       "      <td>800737690</td>\n",
       "      <td>12</td>\n",
       "      <td>80011F990</td>\n",
       "      <td>2848.96</td>\n",
       "      <td>Euro</td>\n",
       "      <td>2848.96</td>\n",
       "      <td>Euro</td>\n",
       "      <td>ACH</td>\n",
       "      <td>1</td>\n",
       "      <td>0</td>\n",
       "      <td>Thursday</td>\n",
       "    </tr>\n",
       "  </tbody>\n",
       "</table>\n",
       "</div>"
      ],
      "text/plain": [
       "                 Timestamp  From Bank    Account  To Bank  Account.1  \\\n",
       "112579 2022-09-01 00:23:00     231004  812EE86F0    21940  812EE89C0   \n",
       "137520 2022-09-01 00:06:00      21174  800737690       12  80011F990   \n",
       "\n",
       "        Amount Received Receiving Currency  Amount Paid Payment Currency  \\\n",
       "112579          3401.73          US Dollar      3401.73        US Dollar   \n",
       "137520          2848.96               Euro      2848.96             Euro   \n",
       "\n",
       "       Payment Format  Is Laundering  Hour   dayName  \n",
       "112579            ACH              1     0  Thursday  \n",
       "137520            ACH              1     0  Thursday  "
      ]
     },
     "execution_count": 63,
     "metadata": {},
     "output_type": "execute_result"
    }
   ],
   "source": [
    "illicit_funds_ACH['dayName'] = illicit_funds_ACH['Timestamp'].dt.day_name()\n",
    "illicit_funds_ACH.head(2)"
   ]
  },
  {
   "cell_type": "code",
   "execution_count": 82,
   "id": "74dbcbb9",
   "metadata": {},
   "outputs": [
    {
     "data": {
      "text/plain": [
       "<Axes: xlabel='dayName'>"
      ]
     },
     "execution_count": 82,
     "metadata": {},
     "output_type": "execute_result"
    },
    {
     "data": {
      "image/png": "[encoded data removed]",
      "text/plain": [
       "<Figure size 640x480 with 1 Axes>"
      ]
     },
     "metadata": {},
     "output_type": "display_data"
    }
   ],
   "source": [
    "illicit_funds_ACH.groupby('dayName').size().sort_values(ascending=False).plot.bar()\n"
   ]
  },
  {
   "cell_type": "markdown",
   "id": "cd1b09d2",
   "metadata": {},
   "source": [
    "*Now it is safe to say that with payment currency US Dollar, mode ACH and on Saturday laundrers are mostly active*"
   ]
  },
  {
   "cell_type": "code",
   "execution_count": 86,
   "id": "2792d5f2",
   "metadata": {},
   "outputs": [
    {
     "name": "stdout",
     "output_type": "stream",
     "text": [
      "Empty DataFrame\n",
      "Columns: [Timestamp, From Bank, Account, To Bank, Account.1, Amount Received, Receiving Currency, Amount Paid, Payment Currency, Payment Format, Is Laundering, Hour, dayName]\n",
      "Index: []\n"
     ]
    }
   ],
   "source": [
    "# Filter for transactions with round number amounts\n",
    "round_numbers =  illicit_funds_ACH[(illicit_funds_ACH['Amount Received'] % 10000 == 0)]\n",
    "\n",
    "# Print the filtered transactions\n",
    "print(round_numbers)"
   ]
  },
  {
   "cell_type": "markdown",
   "id": "475441a1",
   "metadata": {},
   "source": [
    "*Late-night or Odd-hour Transactions*"
   ]
  },
  {
   "cell_type": "code",
   "execution_count": 91,
   "id": "57dabe14",
   "metadata": {},
   "outputs": [
    {
     "data": {
      "image/png": "[encoded data removed]",
      "text/plain": [
       "<Figure size 1000x600 with 1 Axes>"
      ]
     },
     "metadata": {},
     "output_type": "display_data"
    },
    {
     "data": {
      "image/png": "[encoded data removed]",
      "text/plain": [
       "<Figure size 1200x600 with 1 Axes>"
      ]
     },
     "metadata": {},
     "output_type": "display_data"
    }
   ],
   "source": [
    "late_night = illicit_funds_ACH[(illicit_funds_ACH['Hour'] >= 0) & (illicit_funds_ACH['Hour'] < 5)]\n",
    "# Create a bar plot of late-night transactions by hour\n",
    "late_night['Hour'].value_counts().sort_index().plot(kind='bar', figsize=(10, 6))\n",
    "plt.title('Late-night Transactions by Hour')\n",
    "plt.xlabel('Hour')\n",
    "plt.ylabel('Count')\n",
    "plt.show()\n",
    "\n",
    "# Create a time-series plot of late-night transactions\n",
    "late_night.set_index('Timestamp')['Amount Paid'].resample('H').sum().plot(figsize=(12, 6))\n",
    "plt.title('Late-night Transactions by Hour (Time-series)')\n",
    "plt.xlabel('Timestamp')\n",
    "plt.ylabel('Amount Paid')\n",
    "plt.show()"
   ]
  }
 ],
 "metadata": {
  "kaggle": {
   "accelerator": "none",
   "dataSources": [
    {
     "datasetId": 2948142,
     "sourceId": 5080714,
     "sourceType": "datasetVersion"
    }
   ],
   "dockerImageVersionId": 30664,
   "isGpuEnabled": false,
   "isInternetEnabled": false,
   "language": "python",
   "sourceType": "notebook"
  },
  "kernelspec": {
   "display_name": "Python 3 (ipykernel)",
   "language": "python",
   "name": "python3"
  },
  "language_info": {
   "codemirror_mode": {
    "name": "ipython",
    "version": 3
   },
   "file_extension": ".py",
   "mimetype": "text/x-python",
   "name": "python",
   "nbconvert_exporter": "python",
   "pygments_lexer": "ipython3",
   "version": "3.11.7"
  },
  "papermill": {
   "default_parameters": {},
   "duration": 85.216317,
   "end_time": "2024-03-17T12:41:45.922470",
   "environment_variables": {},
   "exception": null,
   "input_path": "__notebook__.ipynb",
   "output_path": "__notebook__.ipynb",
   "parameters": {},
   "start_time": "2024-03-17T12:40:20.706153",
   "version": "2.5.0"
  }
 },
 "nbformat": 4,
 "nbformat_minor": 5
}
